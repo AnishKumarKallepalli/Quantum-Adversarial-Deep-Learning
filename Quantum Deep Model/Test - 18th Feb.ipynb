{
 "cells": [
  {
   "cell_type": "code",
   "execution_count": 38,
   "metadata": {},
   "outputs": [],
   "source": [
    "import matplotlib.pyplot as plt\n",
    "import tensorflow as tf\n",
    "import numpy as np\n",
    "import cv2\n",
    "from keras import layers, models\n",
    "from keras.utils import to_categorical\n",
    "from keras.datasets import mnist\n",
    "from keras.optimizers import Adam\n",
    "from sklearn.metrics import f1_score"
   ]
  },
  {
   "cell_type": "code",
   "execution_count": 39,
   "metadata": {},
   "outputs": [],
   "source": [
    "class CNN:\n",
    "\t@staticmethod\n",
    "\tdef build(width, height, depth, classes):\n",
    "\t\tmodel = models.Sequential()\n",
    "\t\tinputShape = (height, width, depth)\n",
    "\t\tmodel.add(layers.Conv2D(32, (3,3), activation='relu', input_shape=inputShape))\n",
    "\t\tmodel.add(layers.MaxPooling2D(2,2))\n",
    "\t\tmodel.add(layers.Conv2D(64, (3,3), activation = 'relu'))\n",
    "\t\tmodel.add(layers.MaxPooling2D(2,2))\n",
    "\t\tmodel.add(layers.Flatten())\n",
    "\t\tmodel.add(layers.Dense(128, activation = 'relu'))\n",
    "\t\tmodel.add(layers.Dense(classes, activation = 'softmax'))\n",
    "\t\treturn model"
   ]
  },
  {
   "cell_type": "code",
   "execution_count": 40,
   "metadata": {},
   "outputs": [],
   "source": [
    "def train_cnn(train_images, train_labels, val_images,val_labels):\n",
    "    model = CNN.build(width=28, height=28, depth=1, classes=10)\n",
    "    model.compile(optimizer='rmsprop',loss='sparse_categorical_crossentropy',metrics=['accuracy']) #98.97 - adam 99.23 - rmsprop\n",
    "    model.fit(train_images, train_labels, epochs = 1, batch_size = 60,validation_data=(val_images, val_labels)) \n",
    "    return model"
   ]
  },
  {
   "cell_type": "code",
   "execution_count": 41,
   "metadata": {},
   "outputs": [],
   "source": [
    "def evalute_cnn(model, test_images, test_labels):\n",
    "    test_loss, test_acc = model.evaluate(test_images, test_labels)\n",
    "    print(f'[INFO] Loss:{test_loss:.4f} Test accuracy: {(test_acc*100):.4f}')"
   ]
  },
  {
   "cell_type": "code",
   "execution_count": 49,
   "metadata": {},
   "outputs": [],
   "source": [
    "def calculate_f1_score(model, test_images,test_labels):\n",
    "    test_prob = model.predict(test_images) \n",
    "    test_pred = test_prob.argmax(axis=-1)\n",
    "    print(test_pred)\n",
    "    f1 = f1_score(test_labels, test_pred, average='weighted')\n",
    "    print(f'[INFO] F1-Score is:{f1:.4f}')"
   ]
  },
  {
   "cell_type": "code",
   "execution_count": 50,
   "metadata": {},
   "outputs": [
    {
     "name": "stdout",
     "output_type": "stream",
     "text": [
      "1000/1000 [==============================] - 7s 7ms/step - loss: 0.1494 - accuracy: 0.9539 - val_loss: 0.0527 - val_accuracy: 0.9837\n",
      "313/313 [==============================] - 1s 3ms/step - loss: 0.0527 - accuracy: 0.9837\n",
      "[INFO] Loss:0.0527 Test accuracy: 98.3700\n",
      "313/313 [==============================] - 1s 4ms/step\n",
      "[7 2 1 ... 4 5 6]\n",
      "[INFO] F1-Score is:0.9837\n"
     ]
    }
   ],
   "source": [
    "(train_images, train_labels), (test_images, test_labels) = mnist.load_data()\n",
    "train_images = train_images.reshape(train_images.shape[0], 28, 28, 1)\n",
    "test_images = test_images.reshape(test_images.shape[0], 28, 28, 1)\n",
    "train_images , test_images = train_images / 255.0 , test_images / 255.0\n",
    "model = train_cnn(train_images,train_labels,test_images,test_labels)\n",
    "evalute_cnn(model,test_images,test_labels)\n",
    "calculate_f1_score(model,test_images,test_labels)"
   ]
  },
  {
   "cell_type": "code",
   "execution_count": null,
   "metadata": {},
   "outputs": [],
   "source": [
    "# Function definitions\n",
    "def twoplayergame_ga(X_train):\n",
    "    # Implement GA-based adversarial manipulation\n",
    "    pass\n",
    "\n",
    "def twoplayergame_sa(X_train):\n",
    "    # Implement SA-based adversarial manipulation\n",
    "    pass\n",
    "\n",
    "def generate_manipulated_data(data, A_s):\n",
    "    # Generate manipulated data based on A_s\n",
    "    pass\n"
   ]
  },
  {
   "cell_type": "code",
   "execution_count": null,
   "metadata": {},
   "outputs": [],
   "source": [
    "def adversarial_manipulation(X_train, X_test, M, gametype):\n",
    "    A_s = [] \n",
    "\n",
    "    for i in range(1, M+1):\n",
    "        if gametype == 'GA':\n",
    "            a_i = twoplayergame_ga(X_train)  \n",
    "        elif gametype == 'SA':\n",
    "            a_i = twoplayergame_sa(X_train)  \n",
    "        else:\n",
    "            raise ValueError(\"Invalid gametype\")\n",
    "        A_s.append(a_i)\n",
    "\n",
    "    X_train_manipulated = generate_manipulated_data(X_train, A_s)\n",
    "    X_test_manipulated = generate_manipulated_data(X_test, A_s)\n",
    "\n",
    "    cnn_model = train_cnn(X_train)\n",
    "\n",
    "    # Calculate F1-score for manipulated testing data\n",
    "    f1_score_manipulated = calculate_f1_score(cnn_model, X_test_manipulated)\n",
    "\n",
    "    # Retrain CNN on manipulated training data\n",
    "    cnn_model_secure= train_cnn(X_train_manipulated)\n",
    "\n",
    "    f1_score_secure = calculate_f1_score(cnn_model_secure, X_test_manipulated)\n",
    "\n",
    "    return A_s, f1_score_manipulated, f1_score_secure"
   ]
  },
  {
   "cell_type": "code",
   "execution_count": null,
   "metadata": {},
   "outputs": [],
   "source": [
    "def fitness(X, Y, alpha_population, lambda_value):\n",
    "    fitness_values = []\n",
    "    \n",
    "    for alpha in alpha_population:\n",
    "\n",
    "        metrics = evaluate(X + alpha, Y)\n",
    "       \n",
    "        error = lambda_value * metrics['recall']\n",
    "    \n",
    "        alpha_fitness = 1 + error - cost(alpha)  \n",
    "\n",
    "        fitness_values.append(alpha_fitness)\n",
    "    \n",
    "    return fitness_values\n"
   ]
  }
 ],
 "metadata": {
  "kernelspec": {
   "display_name": "Python 3",
   "language": "python",
   "name": "python3"
  },
  "language_info": {
   "codemirror_mode": {
    "name": "ipython",
    "version": 3
   },
   "file_extension": ".py",
   "mimetype": "text/x-python",
   "name": "python",
   "nbconvert_exporter": "python",
   "pygments_lexer": "ipython3",
   "version": "3.10.7"
  }
 },
 "nbformat": 4,
 "nbformat_minor": 2
}
