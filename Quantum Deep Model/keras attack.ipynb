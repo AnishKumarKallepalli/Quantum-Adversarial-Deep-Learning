{
 "cells": [
  {
   "cell_type": "markdown",
   "metadata": {},
   "source": [
    "## Handwritten Digit Recognition - MNIST Dataset - CNN - Python/Keras"
   ]
  },
  {
   "cell_type": "code",
   "execution_count": 1,
   "metadata": {},
   "outputs": [
    {
     "name": "stdout",
     "output_type": "stream",
     "text": [
      "WARNING:tensorflow:From c:\\Users\\anish\\AppData\\Local\\Programs\\Python\\Python310\\lib\\site-packages\\keras\\src\\losses.py:2976: The name tf.losses.sparse_softmax_cross_entropy is deprecated. Please use tf.compat.v1.losses.sparse_softmax_cross_entropy instead.\n",
      "\n"
     ]
    }
   ],
   "source": [
    "from keras.datasets import mnist\n",
    "from keras import layers, models\n",
    "import matplotlib.pyplot as plt\n",
    "from keras.utils import to_categorical\n",
    "import numpy as np\n",
    "import tensorflow as tf"
   ]
  },
  {
   "cell_type": "code",
   "execution_count": 2,
   "metadata": {},
   "outputs": [],
   "source": [
    "(train_images, train_labels), (test_images, test_labels) = mnist.load_data()"
   ]
  },
  {
   "cell_type": "code",
   "execution_count": 3,
   "metadata": {},
   "outputs": [],
   "source": [
    "train_images = train_images.reshape(train_images.shape[0], 28, 28, 1)\n",
    "test_images = test_images.reshape(test_images.shape[0], 28, 28, 1)\n",
    "train_images , test_images = train_images / 255.0 , test_images / 255.0"
   ]
  },
  {
   "cell_type": "code",
   "execution_count": 4,
   "metadata": {},
   "outputs": [
    {
     "name": "stdout",
     "output_type": "stream",
     "text": [
      "WARNING:tensorflow:From c:\\Users\\anish\\AppData\\Local\\Programs\\Python\\Python310\\lib\\site-packages\\keras\\src\\backend.py:873: The name tf.get_default_graph is deprecated. Please use tf.compat.v1.get_default_graph instead.\n",
      "\n",
      "WARNING:tensorflow:From c:\\Users\\anish\\AppData\\Local\\Programs\\Python\\Python310\\lib\\site-packages\\keras\\src\\layers\\pooling\\max_pooling2d.py:161: The name tf.nn.max_pool is deprecated. Please use tf.nn.max_pool2d instead.\n",
      "\n",
      "WARNING:tensorflow:From c:\\Users\\anish\\AppData\\Local\\Programs\\Python\\Python310\\lib\\site-packages\\keras\\src\\optimizers\\__init__.py:309: The name tf.train.Optimizer is deprecated. Please use tf.compat.v1.train.Optimizer instead.\n",
      "\n",
      "Epoch 1/5\n",
      "WARNING:tensorflow:From c:\\Users\\anish\\AppData\\Local\\Programs\\Python\\Python310\\lib\\site-packages\\keras\\src\\utils\\tf_utils.py:492: The name tf.ragged.RaggedTensorValue is deprecated. Please use tf.compat.v1.ragged.RaggedTensorValue instead.\n",
      "\n",
      "WARNING:tensorflow:From c:\\Users\\anish\\AppData\\Local\\Programs\\Python\\Python310\\lib\\site-packages\\keras\\src\\engine\\base_layer_utils.py:384: The name tf.executing_eagerly_outside_functions is deprecated. Please use tf.compat.v1.executing_eagerly_outside_functions instead.\n",
      "\n",
      "1000/1000 [==============================] - 6s 6ms/step - loss: 0.1492 - accuracy: 0.9535 - val_loss: 0.0471 - val_accuracy: 0.9846\n",
      "Epoch 2/5\n",
      "1000/1000 [==============================] - 5s 5ms/step - loss: 0.0456 - accuracy: 0.9859 - val_loss: 0.0349 - val_accuracy: 0.9883\n",
      "Epoch 3/5\n",
      "1000/1000 [==============================] - 5s 5ms/step - loss: 0.0307 - accuracy: 0.9904 - val_loss: 0.0298 - val_accuracy: 0.9894\n",
      "Epoch 4/5\n",
      "1000/1000 [==============================] - 10s 10ms/step - loss: 0.0227 - accuracy: 0.9932 - val_loss: 0.0276 - val_accuracy: 0.9924\n",
      "Epoch 5/5\n",
      "1000/1000 [==============================] - 10s 10ms/step - loss: 0.0170 - accuracy: 0.9947 - val_loss: 0.0319 - val_accuracy: 0.9909\n",
      "313/313 [==============================] - 1s 2ms/step - loss: 0.0319 - accuracy: 0.9909\n",
      "Test accuracy: 99.08999800682068\n"
     ]
    }
   ],
   "source": [
    "model = models.Sequential()\n",
    "model.add(layers.Conv2D(32, (3,3), activation='relu', input_shape=(28,28,1)))\n",
    "model.add(layers.MaxPooling2D(2,2))\n",
    "model.add(layers.Conv2D(64, (3,3), activation = 'relu'))\n",
    "model.add(layers.MaxPooling2D(2,2))\n",
    "model.add(layers.Flatten())\n",
    "model.add(layers.Dense(128, activation = 'relu'))\n",
    "model.add(layers.Dense(10, activation = 'softmax'))\n",
    "# model_cnn.summary()\n",
    "model.compile(optimizer='rmsprop',loss='sparse_categorical_crossentropy',metrics=['accuracy']) #98.97 - adam 99.23 - rmsprop\n",
    "model.fit(train_images, train_labels, epochs = 5, batch_size = 60,validation_data=(test_images, test_labels)) \n",
    "test_loss, test_acc = model.evaluate(test_images, test_labels)\n",
    "print('Test accuracy:', (test_acc*100))"
   ]
  },
  {
   "cell_type": "code",
   "execution_count": 5,
   "metadata": {},
   "outputs": [],
   "source": [
    "def generate_adversarial_example(input_image, epsilon, data_grad):\n",
    "    # Collect the element-wise sign of the data gradient\n",
    "    sign_data_grad = tf.sign(data_grad)\n",
    "    # Create the perturbed image by adjusting each pixel of the input image\n",
    "    perturbed_image = (input_image + (epsilon * sign_data_grad)).numpy()\n",
    "    # Clip the perturbed image to be within [0, 1]\n",
    "    perturbed_image = tf.clip_by_value(perturbed_image, 0, 1)\n",
    "    return perturbed_image"
   ]
  },
  {
   "cell_type": "code",
   "execution_count": 42,
   "metadata": {},
   "outputs": [],
   "source": [
    "# FGSM attack\n",
    "def fgsm_attack(model,image, label):\n",
    "    image = tf.cast(image, tf.float32)\n",
    "    # Record gradients of the loss with respect to the input image\n",
    "    with tf.GradientTape() as tape:\n",
    "        tape.watch(image)\n",
    "        prediction = model(image)\n",
    "        loss = tf.keras.losses.sparse_categorical_crossentropy(label, prediction)\n",
    "    # Get the gradients of the loss with respect to the input image\n",
    "    gradient = tape.gradient(loss, image)\n",
    "    # Generate adversarial example using FGSM\n",
    "    perturbed_image = generate_adversarial_example(image, 0.2, gradient)\n",
    "    return perturbed_image"
   ]
  },
  {
   "cell_type": "code",
   "execution_count": 46,
   "metadata": {},
   "outputs": [
    {
     "data": {
      "image/png": "[encoded data removed]",
      "text/plain": [
       "<Figure size 1000x500 with 2 Axes>"
      ]
     },
     "metadata": {},
     "output_type": "display_data"
    }
   ],
   "source": [
    "# Select a random image from the test set\n",
    "idx = np.random.randint(0, len(test_images))\n",
    "test_image = test_images[idx].reshape(1, 28, 28, 1)\n",
    "true_label = test_labels[idx]\n",
    "\n",
    "# Generate adversarial example\n",
    "perturbed_image = fgsm_attack(model,test_image, true_label)\n",
    "\n",
    "# Predictions before and after attack\n",
    "prediction_before_attack = model(test_image).numpy().argmax()\n",
    "prediction_after_attack = model(perturbed_image).numpy().argmax()\n",
    "\n",
    "# Plot original and adversarial images\n",
    "plt.figure(figsize=(10, 5))\n",
    "plt.subplot(1, 2, 1)\n",
    "plt.imshow(test_image[0], cmap='gray')\n",
    "plt.title(f'Original Image - Prediction: {prediction_before_attack}')\n",
    "plt.subplot(1, 2, 2)\n",
    "plt.imshow(perturbed_image[0], cmap='gray')\n",
    "plt.title(f'Adversarial Image - Prediction: {prediction_after_attack}')\n",
    "plt.show()"
   ]
  },
  {
   "cell_type": "code",
   "execution_count": null,
   "metadata": {},
   "outputs": [],
   "source": []
  },
  {
   "cell_type": "code",
   "execution_count": null,
   "metadata": {},
   "outputs": [],
   "source": []
  },
  {
   "cell_type": "code",
   "execution_count": null,
   "metadata": {},
   "outputs": [],
   "source": []
  }
 ],
 "metadata": {
  "@webio": {
   "lastCommId": null,
   "lastKernelId": null
  },
  "kernelspec": {
   "display_name": "Python 3",
   "language": "python",
   "name": "python3"
  },
  "language_info": {
   "codemirror_mode": {
    "name": "ipython",
    "version": 3
   },
   "file_extension": ".py",
   "mimetype": "text/x-python",
   "name": "python",
   "nbconvert_exporter": "python",
   "pygments_lexer": "ipython3",
   "version": "3.10.7"
  }
 },
 "nbformat": 4,
 "nbformat_minor": 4
}
